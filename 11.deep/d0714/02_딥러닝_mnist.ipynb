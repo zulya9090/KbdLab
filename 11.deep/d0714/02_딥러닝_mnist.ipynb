{
  "nbformat": 4,
  "nbformat_minor": 0,
  "metadata": {
    "colab": {
      "name": "02.딥러닝_mnist.ipynb",
      "provenance": [],
      "collapsed_sections": [],
      "include_colab_link": true
    },
    "kernelspec": {
      "name": "python3",
      "display_name": "Python 3"
    },
    "language_info": {
      "name": "python"
    }
  },
  "cells": [
    {
      "cell_type": "markdown",
      "metadata": {
        "id": "view-in-github",
        "colab_type": "text"
      },
      "source": [
        "<a href=\"https://colab.research.google.com/github/zulya9090/KbdLab/blob/main/11.deep/d0714/02_%EB%94%A5%EB%9F%AC%EB%8B%9D_mnist.ipynb\" target=\"_parent\"><img src=\"https://colab.research.google.com/assets/colab-badge.svg\" alt=\"Open In Colab\"/></a>"
      ]
    },
    {
      "cell_type": "markdown",
      "source": [
        "## keras 딥러닝 - mnist"
      ],
      "metadata": {
        "id": "bhd87bS8oJug"
      }
    },
    {
      "cell_type": "code",
      "execution_count": null,
      "metadata": {
        "id": "KyJRUEtsn9lA"
      },
      "outputs": [],
      "source": [
        "import sklearn\n",
        "from tensorflow import keras\n",
        "from sklearn.linear_model import SGDClassifier\n",
        "import numpy as np\n",
        "import pandas as pd\n",
        "import matplotlib.pyplot as plt\n",
        "from sklearn.model_selection import train_test_split"
      ]
    },
    {
      "cell_type": "code",
      "source": [
        "# 데이터 불러오기\n",
        "(train_data,train_label),(test_data,test_label) = (keras.datasets.fashion_mnist.load_data())"
      ],
      "metadata": {
        "id": "A2Udd0jmobmA"
      },
      "execution_count": null,
      "outputs": []
    },
    {
      "cell_type": "code",
      "source": [
        "# 데이터 전처리\n",
        "# 1) 데이터 확인 - pandas : info,describe\n",
        "train_data.shape # (60000, 28, 28)"
      ],
      "metadata": {
        "colab": {
          "base_uri": "https://localhost:8080/"
        },
        "id": "E3VMjLQGoboo",
        "outputId": "879a5c9c-ed83-4b8c-cd06-aa5d66de660d"
      },
      "execution_count": null,
      "outputs": [
        {
          "output_type": "execute_result",
          "data": {
            "text/plain": [
              "(60000, 28, 28)"
            ]
          },
          "metadata": {},
          "execution_count": 28
        }
      ]
    },
    {
      "cell_type": "code",
      "source": [
        "train_label.shape # (60000, 28, 28)"
      ],
      "metadata": {
        "colab": {
          "base_uri": "https://localhost:8080/"
        },
        "id": "DzokUY_Pph0_",
        "outputId": "b0f6b069-97f1-44f3-c7e1-774e42fbb761"
      },
      "execution_count": null,
      "outputs": [
        {
          "output_type": "execute_result",
          "data": {
            "text/plain": [
              "(60000,)"
            ]
          },
          "metadata": {},
          "execution_count": 29
        }
      ]
    },
    {
      "cell_type": "code",
      "source": [
        "# 2) class 확인 - pandas : 컬럼, 클래스\n",
        "np.unique(train_label,return_counts=True)"
      ],
      "metadata": {
        "colab": {
          "base_uri": "https://localhost:8080/"
        },
        "id": "z5J-C9hyptVm",
        "outputId": "73d34c6d-80b0-49d8-cbe0-45602b580230"
      },
      "execution_count": null,
      "outputs": [
        {
          "output_type": "execute_result",
          "data": {
            "text/plain": [
              "(array([0, 1, 2, 3, 4, 5, 6, 7, 8, 9], dtype=uint8),\n",
              " array([6000, 6000, 6000, 6000, 6000, 6000, 6000, 6000, 6000, 6000]))"
            ]
          },
          "metadata": {},
          "execution_count": 30
        }
      ]
    },
    {
      "cell_type": "code",
      "source": [
        "# 정규화, 표준화 작업\n",
        "train_scaled = train_data/255.0\n",
        "test_scaled = test_data/255.0"
      ],
      "metadata": {
        "id": "RiTbteTaqZaf"
      },
      "execution_count": null,
      "outputs": []
    },
    {
      "cell_type": "code",
      "source": [
        "train_scaled = train_scaled.reshape(-1,28*28)\n",
        "test_scaled = test_scaled.reshape(-1,28*28)"
      ],
      "metadata": {
        "id": "DQ6gsvbusH1W"
      },
      "execution_count": null,
      "outputs": []
    },
    {
      "cell_type": "code",
      "source": [
        "# train_data,test_data,val_data\n",
        "sub_data,val_data,sub_label,val_label = train_test_split(train_scaled,train_label)"
      ],
      "metadata": {
        "id": "C-s_qLGtobrA"
      },
      "execution_count": null,
      "outputs": []
    },
    {
      "cell_type": "code",
      "source": [
        "# 클래스 개수 - 10\n",
        "np.unique(train_label)"
      ],
      "metadata": {
        "colab": {
          "base_uri": "https://localhost:8080/"
        },
        "id": "2z9GqQUKsm8t",
        "outputId": "0a9a4930-0ef6-44bf-ffaf-f79497472edc"
      },
      "execution_count": null,
      "outputs": [
        {
          "output_type": "execute_result",
          "data": {
            "text/plain": [
              "array([0, 1, 2, 3, 4, 5, 6, 7, 8, 9], dtype=uint8)"
            ]
          },
          "metadata": {},
          "execution_count": 34
        }
      ]
    },
    {
      "cell_type": "code",
      "source": [
        "# 1. 딥러닝 선언\n",
        "# keras 입력층 클래스 개수와 같아야 함. \n",
        "# 클래스가 여러개, softmax사용 1개일때는 sigmoid함수\n",
        "# 출력층\n",
        "dense = keras.layers.Dense(100,activation='sigmoid',input_shape=(784,))\n",
        "dense2 = keras.layers.Dense(10,activation='softmax')\n",
        "# 알고리즘선언\n",
        "model = keras.Sequential(dense,dense2)\n",
        "# 설정 - 이진분류 : sparse_binary_crossentropy accuracy : 정확도 출력\n",
        "model.compile(loss='sparse_categorical_crossentropy', metrics='accuracy')"
      ],
      "metadata": {
        "id": "PujsJj8esBbG"
      },
      "execution_count": null,
      "outputs": []
    },
    {
      "cell_type": "code",
      "source": [
        "# 2. 딥러닝 선언\n",
        "# keras 입력층 클래스 개수와 같아야 함. \n",
        "# 클래스가 여러개, softmax사용 1개일때는 sigmoid함수\n",
        "# 출력층\n",
        "\n",
        "# 알고리즘선언\n",
        "model = keras.Sequential([\n",
        "        keras.layers.Dense(100,activation='sigmoid',input_shape=(784,)),\n",
        "        keras.layers.Dense(10,activation='softmax')\n",
        "])\n",
        "# 설정 - 이진분류 : sparse_binary_crossentropy accuracy : 정확도 출력\n",
        "model.compile(loss='sparse_categorical_crossentropy', metrics='accuracy')"
      ],
      "metadata": {
        "id": "wM76qDeuC6tC"
      },
      "execution_count": null,
      "outputs": []
    },
    {
      "cell_type": "code",
      "source": [
        "# 3. 딥러닝 선언 \n",
        "# 알고리즘 선언\n",
        "model = keras.Sequential()\n",
        "model.add(keras.layers.Dense(100,activation='sigmoid',input_shape=(784,)))\n",
        "model.add(keras.layers.Dense(10,activation='softmax'))\n",
        "model.compile(loss='sparse_categorical_crossentropy',metrics='accuracy')"
      ],
      "metadata": {
        "id": "8k3kcd9zA8-C"
      },
      "execution_count": null,
      "outputs": []
    },
    {
      "cell_type": "code",
      "source": [
        "# 훈련 - 2차원데이터\n",
        "model.fit(train_scaled,train_label,epochs=5)"
      ],
      "metadata": {
        "colab": {
          "base_uri": "https://localhost:8080/"
        },
        "id": "mNVELT5qobtZ",
        "outputId": "3d7c6a13-7e6b-40c0-b5fc-5ec40afe1e1a"
      },
      "execution_count": null,
      "outputs": [
        {
          "output_type": "stream",
          "name": "stdout",
          "text": [
            "Epoch 1/5\n",
            "1875/1875 [==============================] - 6s 3ms/step - loss: 0.5370 - accuracy: 0.8133\n",
            "Epoch 2/5\n",
            "1875/1875 [==============================] - 5s 3ms/step - loss: 0.3947 - accuracy: 0.8583\n",
            "Epoch 3/5\n",
            "1875/1875 [==============================] - 5s 3ms/step - loss: 0.3603 - accuracy: 0.8701\n",
            "Epoch 4/5\n",
            "1875/1875 [==============================] - 5s 3ms/step - loss: 0.3396 - accuracy: 0.8775\n",
            "Epoch 5/5\n",
            "1875/1875 [==============================] - 5s 3ms/step - loss: 0.3222 - accuracy: 0.8850\n"
          ]
        },
        {
          "output_type": "execute_result",
          "data": {
            "text/plain": [
              "<keras.callbacks.History at 0x7f38742be750>"
            ]
          },
          "metadata": {},
          "execution_count": 44
        }
      ]
    },
    {
      "cell_type": "code",
      "source": [
        "# 정확도\n",
        "score = model.evaluate(test_scaled,test_label)\n",
        "score"
      ],
      "metadata": {
        "colab": {
          "base_uri": "https://localhost:8080/"
        },
        "id": "-_SxZxuNobvo",
        "outputId": "d3d01a43-c843-4132-f891-bba6d8b01cf4"
      },
      "execution_count": null,
      "outputs": [
        {
          "output_type": "stream",
          "name": "stdout",
          "text": [
            "313/313 [==============================] - 1s 2ms/step - loss: 0.3636 - accuracy: 0.8729\n"
          ]
        },
        {
          "output_type": "execute_result",
          "data": {
            "text/plain": [
              "[0.36359938979148865, 0.8729000091552734]"
            ]
          },
          "metadata": {},
          "execution_count": 45
        }
      ]
    },
    {
      "cell_type": "code",
      "source": [
        ""
      ],
      "metadata": {
        "id": "2-HJE685obx5"
      },
      "execution_count": null,
      "outputs": []
    },
    {
      "cell_type": "code",
      "source": [
        ""
      ],
      "metadata": {
        "id": "ILrazc3Pobz5"
      },
      "execution_count": null,
      "outputs": []
    }
  ]
}