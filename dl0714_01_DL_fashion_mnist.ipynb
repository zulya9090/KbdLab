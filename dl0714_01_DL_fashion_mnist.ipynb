{
  "nbformat": 4,
  "nbformat_minor": 0,
  "metadata": {
    "colab": {
      "name": "dl0714_01_DL_fashion_mnist.ipynb",
      "provenance": [],
      "collapsed_sections": [],
      "toc_visible": true,
      "authorship_tag": "ABX9TyNW/i9cpycPnzp26ZrGKDBH",
      "include_colab_link": true
    },
    "kernelspec": {
      "name": "python3",
      "display_name": "Python 3"
    },
    "language_info": {
      "name": "python"
    }
  },
  "cells": [
    {
      "cell_type": "markdown",
      "metadata": {
        "id": "view-in-github",
        "colab_type": "text"
      },
      "source": [
        "<a href=\"https://colab.research.google.com/github/zulya9090/KbdLab/blob/main/dl0714_01_DL_fashion_mnist.ipynb\" target=\"_parent\"><img src=\"https://colab.research.google.com/assets/colab-badge.svg\" alt=\"Open In Colab\"/></a>"
      ]
    },
    {
      "cell_type": "markdown",
      "source": [
        "KERAK DEPP LEARNING"
      ],
      "metadata": {
        "id": "y-whxBSboi_I"
      }
    },
    {
      "cell_type": "code",
      "execution_count": null,
      "metadata": {
        "id": "ckcEjvB5obPg"
      },
      "outputs": [],
      "source": [
        "import sklearn\n",
        "from tensorflow import keras\n",
        "from sklearn.linear_model import SGDClassifier\n",
        "import numpy as np\n",
        "import pandas as pd \n",
        "import matplotlib.pyplot as plt \n",
        "from sklearn.model_selection import train_test_split"
      ]
    },
    {
      "cell_type": "code",
      "source": [
        "(train_data,train_label),(test_data,test_label) = keras.datasets.fashion_mnist.load_data()"
      ],
      "metadata": {
        "id": "tkMzZSPypBkW"
      },
      "execution_count": null,
      "outputs": []
    },
    {
      "cell_type": "code",
      "source": [
        "# data tekshirish \n",
        "train_data.shape \n",
        "train_data.reshape(60000,28*28)"
      ],
      "metadata": {
        "colab": {
          "base_uri": "https://localhost:8080/"
        },
        "id": "CzWjlxHQpeiV",
        "outputId": "0944f302-2b55-40ea-b38e-aa26bfd1ea89"
      },
      "execution_count": null,
      "outputs": [
        {
          "output_type": "execute_result",
          "data": {
            "text/plain": [
              "array([[0, 0, 0, ..., 0, 0, 0],\n",
              "       [0, 0, 0, ..., 0, 0, 0],\n",
              "       [0, 0, 0, ..., 0, 0, 0],\n",
              "       ...,\n",
              "       [0, 0, 0, ..., 0, 0, 0],\n",
              "       [0, 0, 0, ..., 0, 0, 0],\n",
              "       [0, 0, 0, ..., 0, 0, 0]], dtype=uint8)"
            ]
          },
          "metadata": {},
          "execution_count": 8
        }
      ]
    },
    {
      "cell_type": "code",
      "source": [
        "# datani standartlash(rang bolgani uchun: rang raqamini umumiy rang soniga boldik)\n",
        "train_scaled = train_data/255.0\n",
        "test_scaled = test_data/255.0"
      ],
      "metadata": {
        "id": "KfBWeojapmog"
      },
      "execution_count": null,
      "outputs": []
    },
    {
      "cell_type": "code",
      "source": [
        "# 차원 변경\n",
        "train_scaled = train_scaled.reshape(-1,28*28)\n",
        "test_scaled = test_scaled.reshape(-1,28*28)"
      ],
      "metadata": {
        "id": "kC0N3qKcsLNE"
      },
      "execution_count": null,
      "outputs": []
    },
    {
      "cell_type": "code",
      "source": [
        "# train_data ni yana bir marta ikki qismga ajratib: train va 검증 uchun ajratamiz\n",
        "sub_data,val_data,sub_label,val_label = train_test_split(train_scaled,train_label)"
      ],
      "metadata": {
        "id": "cXQ7cAEarjA-"
      },
      "execution_count": null,
      "outputs": []
    },
    {
      "cell_type": "code",
      "source": [
        "# class soni aniqlash: 10 ta  - [0, 1, 2, 3, 4, 5, 6, 7, 8, 9]\n",
        "np.unique(train_label)"
      ],
      "metadata": {
        "colab": {
          "base_uri": "https://localhost:8080/"
        },
        "id": "VbgknA8xstZn",
        "outputId": "ac516d69-ae38-4e72-d126-91e23a6373f8"
      },
      "execution_count": null,
      "outputs": [
        {
          "output_type": "execute_result",
          "data": {
            "text/plain": [
              "array([0, 1, 2, 3, 4, 5, 6, 7, 8, 9], dtype=uint8)"
            ]
          },
          "metadata": {},
          "execution_count": 17
        }
      ]
    },
    {
      "cell_type": "code",
      "source": [
        "# algorizm tanlashmiz\n",
        "# kerak 입력층은 클래스 개수와 같아야 함\n",
        "# activation: 1. class kop bolsa 'softmax' | 2. class 1ta bolsa 'sigmoid' ishlatiladi\n",
        "dense = keras.layers.Dense(10, activation = 'softmax', input_shape = (784,))\n",
        "dense"
      ],
      "metadata": {
        "colab": {
          "base_uri": "https://localhost:8080/"
        },
        "id": "-2p-v5tosdG_",
        "outputId": "a6ca5d97-3034-4131-f79b-425f4c068313"
      },
      "execution_count": null,
      "outputs": [
        {
          "output_type": "execute_result",
          "data": {
            "text/plain": [
              "<keras.layers.core.dense.Dense at 0x7f56367634d0>"
            ]
          },
          "metadata": {},
          "execution_count": 21
        }
      ]
    },
    {
      "cell_type": "code",
      "source": [
        ""
      ],
      "metadata": {
        "id": "ShKV2oMmtsAK"
      },
      "execution_count": null,
      "outputs": []
    }
  ]
}