{
  "nbformat": 4,
  "nbformat_minor": 0,
  "metadata": {
    "colab": {
      "name": "dl0714_01_DL_fashion_mnist.ipynb",
      "provenance": [],
      "collapsed_sections": [],
      "toc_visible": true,
      "authorship_tag": "ABX9TyPEvsx42D2Hv4aE8mZ6ycbU",
      "include_colab_link": true
    },
    "kernelspec": {
      "name": "python3",
      "display_name": "Python 3"
    },
    "language_info": {
      "name": "python"
    }
  },
  "cells": [
    {
      "cell_type": "markdown",
      "metadata": {
        "id": "view-in-github",
        "colab_type": "text"
      },
      "source": [
        "<a href=\"https://colab.research.google.com/github/zulya9090/KbdLab/blob/main/dl0714_01_DL_fashion_mnist.ipynb\" target=\"_parent\"><img src=\"https://colab.research.google.com/assets/colab-badge.svg\" alt=\"Open In Colab\"/></a>"
      ]
    },
    {
      "cell_type": "markdown",
      "source": [
        "KERAK DEPP LEARNING"
      ],
      "metadata": {
        "id": "y-whxBSboi_I"
      }
    },
    {
      "cell_type": "code",
      "execution_count": null,
      "metadata": {
        "id": "ckcEjvB5obPg"
      },
      "outputs": [],
      "source": [
        "import sklearn\n",
        "from tensorflow import keras\n",
        "from sklearn.linear_model import SGDClassifier\n",
        "import numpy as np\n",
        "import pandas as pd \n",
        "import matplotlib.pyplot as plt \n",
        "from sklearn.model_selection import train_test_split"
      ]
    },
    {
      "cell_type": "code",
      "source": [
        "(train_data,train_label),(test_data,test_label) = keras.datasets.fashion_mnist.load_data()"
      ],
      "metadata": {
        "id": "tkMzZSPypBkW"
      },
      "execution_count": null,
      "outputs": []
    },
    {
      "cell_type": "code",
      "source": [
        "# data tekshirish \n",
        "train_data.shape \n",
        "train_data.reshape(60000,28*28)"
      ],
      "metadata": {
        "colab": {
          "base_uri": "https://localhost:8080/"
        },
        "id": "CzWjlxHQpeiV",
        "outputId": "0944f302-2b55-40ea-b38e-aa26bfd1ea89"
      },
      "execution_count": null,
      "outputs": [
        {
          "output_type": "execute_result",
          "data": {
            "text/plain": [
              "array([[0, 0, 0, ..., 0, 0, 0],\n",
              "       [0, 0, 0, ..., 0, 0, 0],\n",
              "       [0, 0, 0, ..., 0, 0, 0],\n",
              "       ...,\n",
              "       [0, 0, 0, ..., 0, 0, 0],\n",
              "       [0, 0, 0, ..., 0, 0, 0],\n",
              "       [0, 0, 0, ..., 0, 0, 0]], dtype=uint8)"
            ]
          },
          "metadata": {},
          "execution_count": 8
        }
      ]
    },
    {
      "cell_type": "code",
      "source": [
        "# datani standartlash(rang bolgani uchun: rang raqamini umumiy rang soniga boldik)\n",
        "train_scaled = train_data/255.0\n",
        "test_scaled = test_data/255.0"
      ],
      "metadata": {
        "id": "KfBWeojapmog"
      },
      "execution_count": null,
      "outputs": []
    },
    {
      "cell_type": "code",
      "source": [
        "# 차원 변경\n",
        "train_scaled = train_scaled.reshape(-1,28*28)\n",
        "test_scaled = test_scaled.reshape(-1,28*28)"
      ],
      "metadata": {
        "id": "kC0N3qKcsLNE"
      },
      "execution_count": null,
      "outputs": []
    },
    {
      "cell_type": "code",
      "source": [
        "# train_data ni yana bir marta ikki qismga ajratib: train va 검증 uchun ajratamiz\n",
        "sub_data,val_data,sub_label,val_label = train_test_split(train_scaled,train_label)"
      ],
      "metadata": {
        "id": "cXQ7cAEarjA-"
      },
      "execution_count": null,
      "outputs": []
    },
    {
      "cell_type": "code",
      "source": [
        "# class soni aniqlash: 10 ta  - [0, 1, 2, 3, 4, 5, 6, 7, 8, 9]\n",
        "np.unique(train_label)"
      ],
      "metadata": {
        "colab": {
          "base_uri": "https://localhost:8080/"
        },
        "id": "VbgknA8xstZn",
        "outputId": "ac516d69-ae38-4e72-d126-91e23a6373f8"
      },
      "execution_count": null,
      "outputs": [
        {
          "output_type": "execute_result",
          "data": {
            "text/plain": [
              "array([0, 1, 2, 3, 4, 5, 6, 7, 8, 9], dtype=uint8)"
            ]
          },
          "metadata": {},
          "execution_count": 17
        }
      ]
    },
    {
      "cell_type": "code",
      "source": [
        "# algorizm tanlashmiz\n",
        "# kerak 입력층은 클래스 개수와 같아야 함\n",
        "# activation: 1. class kop bolsa 'softmax' | 2. class 1ta bolsa 'sigmoid' ishlatiladi\n",
        "dense = keras.layers.Dense(10, activation = 'sigmoid', input_shape = (784,))\n",
        "dense2 = keras.layers.Dense(10,activation='softmax')\n",
        "# algorizm tanlash\n",
        "model = keras.Sequential(dense,dense2)\n",
        "# \n",
        "model.compile(loss='sparse_categorical_crossentropy', metrics='accuracy')"
      ],
      "metadata": {
        "id": "-2p-v5tosdG_"
      },
      "execution_count": 26,
      "outputs": []
    },
    {
      "cell_type": "code",
      "source": [
        "# 딥러닝 선언\n",
        "# keras 입력층 클래스 개수와 같아야 함\n",
        "#  activation: 1. class kop bolsa 'softmax' | 2. class 1ta bolsa 'sigmoid' funksiyasi ishlatiladi \n",
        "# 출력층 \n",
        "\n",
        "# algorizm tanlash\n",
        "model = keras.Sequential([\n",
        "        keras.layers.Dense(100,activation='sigmoid', input_shape=(784,)),\n",
        "        keras.layers.Dense(10,activation='softmax')\n",
        "])\n",
        "# 이진분류: sparse_binary_crossentropy \n",
        "# 다충분류: sparse_categorical_crossentropy\n",
        "# sparse: datani ozi tartiblaydi\n",
        "model.compile(loss='sparse_categorical_crossentropy', metrics='accuracy')\n"
      ],
      "metadata": {
        "id": "ShKV2oMmtsAK"
      },
      "execution_count": 29,
      "outputs": []
    },
    {
      "cell_type": "code",
      "source": [
        "# data train qilamiz\n",
        "model.fit(train_scaled,train_label,epochs=5)"
      ],
      "metadata": {
        "colab": {
          "base_uri": "https://localhost:8080/"
        },
        "id": "0WOLKLZ-dgaP",
        "outputId": "c27b20ef-88fa-4171-93c5-da1b499e2487"
      },
      "execution_count": 30,
      "outputs": [
        {
          "output_type": "stream",
          "name": "stdout",
          "text": [
            "Epoch 1/5\n",
            "1875/1875 [==============================] - 6s 3ms/step - loss: 0.5374 - accuracy: 0.8173\n",
            "Epoch 2/5\n",
            "1875/1875 [==============================] - 5s 3ms/step - loss: 0.3941 - accuracy: 0.8587\n",
            "Epoch 3/5\n",
            "1875/1875 [==============================] - 5s 3ms/step - loss: 0.3597 - accuracy: 0.8693\n",
            "Epoch 4/5\n",
            "1875/1875 [==============================] - 5s 3ms/step - loss: 0.3392 - accuracy: 0.8768\n",
            "Epoch 5/5\n",
            "1875/1875 [==============================] - 5s 3ms/step - loss: 0.3225 - accuracy: 0.8825\n"
          ]
        },
        {
          "output_type": "execute_result",
          "data": {
            "text/plain": [
              "<keras.callbacks.History at 0x7f563312f650>"
            ]
          },
          "metadata": {},
          "execution_count": 30
        }
      ]
    }
  ]
}